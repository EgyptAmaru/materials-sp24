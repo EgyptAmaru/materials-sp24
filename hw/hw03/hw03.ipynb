{
 "cells": [
  {
   "cell_type": "code",
   "execution_count": null,
   "metadata": {
    "deletable": false,
    "editable": false
   },
   "outputs": [],
   "source": [
    "# Initialize Otter\n",
    "import otter\n",
    "grader = otter.Notebook(\"hw03.ipynb\")"
   ]
  },
  {
   "cell_type": "markdown",
   "metadata": {},
   "source": [
    "<img style=\"display: block; margin-left: auto; margin-right: auto\" src=\"./ccsf-logo.png\" width=\"250rem;\" alt=\"The CCSF black and white logo\">"
   ]
  },
  {
   "cell_type": "markdown",
   "metadata": {},
   "source": [
    "# Homework 03: Visualizations"
   ]
  },
  {
   "cell_type": "markdown",
   "metadata": {},
   "source": [
    "**Recommended Reading**: \n",
    "* [Tables](https://inferentialthinking.com/chapters/06/Tables.html)\n",
    "* [Visualization](https://inferentialthinking.com/chapters/07/Visualization.html)"
   ]
  },
  {
   "cell_type": "markdown",
   "metadata": {},
   "source": [
    "## Assignment Reminders"
   ]
  },
  {
   "cell_type": "markdown",
   "metadata": {},
   "source": [
    "- Make sure to run the code cell at the top of this notebook that starts with `# Initialize Otter` to load the auto-grader.\n",
    "- For all tasks indicated with a 🔎 that you must write explanations and sentences for, provide your answer in the designated space.\n",
    "- Throughout this assignment and all future ones, please be sure to not re-assign variables throughout the notebook! _For example, if you use `max_temperature` in your answer to one question, do not reassign it later on. Otherwise, you will fail tests that you thought you were passing previously!_\n",
    "- We encourage you to discuss this assignment with others, but make sure to write and submit your own code. Refer to the syllabus to learn more about how to learn cooperatively.\n",
    "\n",
    "*View the related <a href=\"https://ccsf.instructure.com\" target=\"_blank\">Canvas</a> Assignment page for additional details.*\n",
    "\n",
    "Run the following code cell to import the tools for this assignment."
   ]
  },
  {
   "cell_type": "code",
   "execution_count": null,
   "metadata": {},
   "outputs": [],
   "source": [
    "import numpy as np\n",
    "from datascience import *\n",
    "import matplotlib\n",
    "%matplotlib inline\n",
    "import matplotlib.pyplot as plt\n",
    "plt.style.use('fivethirtyeight')"
   ]
  },
  {
   "cell_type": "markdown",
   "metadata": {},
   "source": [
    "## Unemployment\n"
   ]
  },
  {
   "cell_type": "markdown",
   "metadata": {},
   "source": [
    "The [Federal Reserve Bank of St. Louis](https://fred.stlouisfed.org/categories/33509) publishes data about jobs in the US.  Below, we've loaded data on unemployment in the United States. There are many ways of defining unemployment, and our dataset includes two notions of the unemployment rate:\n",
    "\n",
    "1. Among people who are able to work and are looking for a full-time job, the percentage who can't find a job.  This is called the Non-Employment Index, or NEI.\n",
    "2. Among people who are able to work and are looking for a full-time job, the percentage who can't find any job *or* are only working at a part-time job.  The latter group is called \"Part-Time for Economic Reasons\", so the acronym for this index is NEI+PTER.  (Economists are great at marketing.)\n",
    "\n",
    "The data that you will use in this assignment contains [quarterly average NEI percentages from 1994 until 2024](https://fred.stlouisfed.org/series/NEIM156SFRBRIC) and [quarterly average NEI+PTER percentages from 1994 until 2024](https://fred.stlouisfed.org/series/NEIPTERM156SFRBRIC)\n",
    "\n",
    "*In this assignment, you will do some preliminary analysis of these unemployment metrics. In a future assignment, you will work on creating visualizations and summarizing your analysis.*\n"
   ]
  },
  {
   "cell_type": "markdown",
   "metadata": {},
   "source": [
    "### Task 01 📍"
   ]
  },
  {
   "cell_type": "markdown",
   "metadata": {
    "deletable": false,
    "editable": false
   },
   "source": [
    "The data are in a CSV file called `unemployment.csv`.  Load the data in that file into a `Table` and assign the table to the name `unemployment`.\n",
    "\n",
    "\n",
    "_Points:_ 1"
   ]
  },
  {
   "cell_type": "code",
   "execution_count": null,
   "metadata": {
    "tags": []
   },
   "outputs": [],
   "source": [
    "unemployment = ...\n",
    "unemployment"
   ]
  },
  {
   "cell_type": "code",
   "execution_count": null,
   "metadata": {
    "deletable": false,
    "editable": false
   },
   "outputs": [],
   "source": [
    "grader.check(\"task_01\")"
   ]
  },
  {
   "cell_type": "markdown",
   "metadata": {},
   "source": [
    "### Task 02 📍"
   ]
  },
  {
   "cell_type": "markdown",
   "metadata": {
    "deletable": false,
    "editable": false
   },
   "source": [
    "Dates can be tricky to work with. When you loaded the data into the table `unemployment`, the dates were read as strings. Run the following cell to see this is true."
   ]
  },
  {
   "cell_type": "code",
   "execution_count": null,
   "metadata": {
    "deletable": false,
    "editable": false
   },
   "outputs": [],
   "source": [
    "type(unemployment.column('DATE').item(0))"
   ]
  },
  {
   "cell_type": "markdown",
   "metadata": {
    "deletable": false,
    "editable": false
   },
   "source": [
    "Strings do not always make the best sense to use for dates since we organize dates by months, years, etc. and this is different than the alphabetical order we typically use for strings. A common date type for dates is [`datetime`](https://docs.python.org/3/library/datetime.html). In this class, you are not responsible for knowing how to work directly with the `datetime` format. Instead, we will set up the code to help you with that date type.\n",
    "\n",
    "**Run the following code cell to convert all the dates in the `'DATE'` column to `datetime` format.**\n",
    "\n",
    "_Points:_ 0"
   ]
  },
  {
   "cell_type": "code",
   "execution_count": null,
   "metadata": {
    "tags": []
   },
   "outputs": [],
   "source": [
    "# Just run this cell\n",
    "import datetime\n",
    "from datetime import datetime, date\n",
    "\n",
    "def update_date_format(date_string):\n",
    "    date_object = datetime.strptime(date_string, '%Y-%m-%d').date()\n",
    "    return date_object\n",
    "\n",
    "if not isinstance(unemployment.column('DATE').item(0),  date):\n",
    "    unemployment = unemployment.with_column(\n",
    "        'DATE', unemployment.apply(update_date_format, 'DATE'))\n",
    "    print(\"The date type for the values in the 'DATE' column have been updated.\\n\")\n",
    "else:\n",
    "    print(\"The date type is correct for the values in the 'DATE' column.\\n\")\n",
    "    \n",
    "display(unemployment)"
   ]
  },
  {
   "cell_type": "code",
   "execution_count": null,
   "metadata": {
    "deletable": false,
    "editable": false
   },
   "outputs": [],
   "source": [
    "grader.check(\"task_02\")"
   ]
  },
  {
   "cell_type": "markdown",
   "metadata": {},
   "source": [
    "### Task 03 📍"
   ]
  },
  {
   "cell_type": "markdown",
   "metadata": {
    "deletable": false,
    "editable": false
   },
   "source": [
    "For this task:\n",
    "1. Sort the data in descending order by NEI, naming the sorted table `by_nei`.\n",
    "2. Create another table called `by_nei_pter` that's sorted in descending order by NEI+PTER instead.\n",
    "\n",
    "\n",
    "_Points:_ 2"
   ]
  },
  {
   "cell_type": "code",
   "execution_count": null,
   "metadata": {
    "tags": []
   },
   "outputs": [],
   "source": [
    "by_nei = ...\n",
    "by_nei_pter = ..."
   ]
  },
  {
   "cell_type": "code",
   "execution_count": null,
   "metadata": {
    "deletable": false,
    "editable": false
   },
   "outputs": [],
   "source": [
    "grader.check(\"task_03\")"
   ]
  },
  {
   "cell_type": "markdown",
   "metadata": {},
   "source": [
    "### Task 04 📍"
   ]
  },
  {
   "cell_type": "markdown",
   "metadata": {
    "deletable": false,
    "editable": false
   },
   "source": [
    "For this task:\n",
    "1. Use `take` to make a table containing the data for the 10 quarters when NEI was greatest.\n",
    "2. Assign that table to the name `greatest_nei`. Keep in mind that `greatest_nei` should be sorted in descending order of `NEI`.\n",
    "\n",
    "**Note**: Each row of `unemployment` represents a quarter.\n",
    "\n",
    "\n",
    "_Points:_ 2"
   ]
  },
  {
   "cell_type": "code",
   "execution_count": null,
   "metadata": {
    "tags": []
   },
   "outputs": [],
   "source": [
    "greatest_nei = ...\n",
    "greatest_nei"
   ]
  },
  {
   "cell_type": "code",
   "execution_count": null,
   "metadata": {
    "deletable": false,
    "editable": false
   },
   "outputs": [],
   "source": [
    "grader.check(\"task_04\")"
   ]
  },
  {
   "cell_type": "markdown",
   "metadata": {},
   "source": [
    "### Task 05 📍"
   ]
  },
  {
   "cell_type": "markdown",
   "metadata": {
    "deletable": false,
    "editable": false
   },
   "source": [
    "It's believed that many people became PTER (recall: \"Part-Time for Economic Reasons\") in the \"Great Recession\" of 2008-2009.  NEI+PTER is the percentage of people who are unemployed (and counted in the NEI) plus the percentage of people who are PTER.  \n",
    "\n",
    "Using the original `unemployment` table, create an array containing the percentage of people who were PTER in each quarter.  (The first element of the array should correspond to the first row of `unemployment`, and so on.)\n",
    "\n",
    "_Points:_ 2"
   ]
  },
  {
   "cell_type": "code",
   "execution_count": null,
   "metadata": {
    "tags": []
   },
   "outputs": [],
   "source": [
    "pter = ...\n",
    "pter"
   ]
  },
  {
   "cell_type": "code",
   "execution_count": null,
   "metadata": {
    "deletable": false,
    "editable": false
   },
   "outputs": [],
   "source": [
    "grader.check(\"task_05\")"
   ]
  },
  {
   "cell_type": "markdown",
   "metadata": {},
   "source": [
    "### Task 06 📍"
   ]
  },
  {
   "cell_type": "markdown",
   "metadata": {
    "deletable": false,
    "editable": false
   },
   "source": [
    "Add `pter` as a column to `unemployment` (named `\"PTER\"`) and sort the resulting table by that column in descending order.  Assign this table to the name `unemployment` to update the original table.\n",
    "\n",
    "**Notes**:\n",
    "* You do not need to do this in one line of code.\n",
    "* You are welcome to add and use extra variable names.\n",
    "    * Make sure that you don't use a name that conflicts with the rest of the notebook.\n",
    "    * Make sure that you use the name `unemployment` for the table since we will be checking that name with the auto-grader.\n",
    "\n",
    "_Points:_ 2"
   ]
  },
  {
   "cell_type": "code",
   "execution_count": null,
   "metadata": {
    "tags": []
   },
   "outputs": [],
   "source": [
    "unemployment = ...\n",
    "unemployment"
   ]
  },
  {
   "cell_type": "code",
   "execution_count": null,
   "metadata": {
    "deletable": false,
    "editable": false
   },
   "outputs": [],
   "source": [
    "grader.check(\"task_06\")"
   ]
  },
  {
   "cell_type": "markdown",
   "metadata": {},
   "source": [
    "### Task 07 📍🔎"
   ]
  },
  {
   "cell_type": "markdown",
   "metadata": {
    "deletable": false,
    "editable": false
   },
   "source": [
    "<!-- BEGIN QUESTION -->\n",
    "\n",
    "Using the `unemployment` table, create an overlaid line plot showing two lines for NEI and PTER unemployment percentages over the dates. The dates should be on the horizontal axes and the percentages should be on the vertical axes.\n",
    "\n",
    "**Note:** Our code below will format the graph for you so that the x-axis shows the year portion of the date for every 3 years starting from 1994.\n",
    "\n",
    "_Points:_ 2"
   ]
  },
  {
   "cell_type": "code",
   "execution_count": null,
   "metadata": {
    "tags": []
   },
   "outputs": [],
   "source": [
    "...\n",
    "\n",
    "# Leave the following code to improve the readability of the horizontal axis tick marks\n",
    "start_date = min(unemployment.column(\"DATE\"))\n",
    "end_date = max(unemployment.column(\"DATE\"))\n",
    "years = [datetime(year, 1, 1) for year in range(start_date.year, end_date.year + 3, 3)]\n",
    "plt.gca().set_xticks(years)\n",
    "plt.gca().set_xticklabels([year.strftime('%Y') for year in years])\n",
    "plt.xticks(rotation=45)\n",
    "plt.title(\"Unemployment Percentages (1994 - 2024)\")\n",
    "plt.show()"
   ]
  },
  {
   "cell_type": "markdown",
   "metadata": {
    "deletable": false,
    "editable": false
   },
   "source": [
    "<!-- END QUESTION -->\n",
    "\n",
    "### Task 08 📍🔎"
   ]
  },
  {
   "cell_type": "markdown",
   "metadata": {
    "deletable": false,
    "editable": false
   },
   "source": [
    "<!-- BEGIN QUESTION -->\n",
    "\n",
    "As you saw early on in the course, sometimes the lines produced from data reveal a story in the data. For this task, we want you to review the graph for patterns, identify 3 major events in US history based on the graph, and hypothesize how the events and the patterns in the unemployment data are related.\n",
    "\n",
    "In your response:\n",
    "1. Mention 3 events that occurred between 1994 and 2024.\n",
    "2. Express how those 3 events show up in the patterns you are observing.\n",
    "3. Hypothesize how those events are associated with unemployment data.\n",
    "\n",
    "_Points:_ 2"
   ]
  },
  {
   "cell_type": "markdown",
   "metadata": {},
   "source": [
    "_Type your answer here, replacing this text._"
   ]
  },
  {
   "cell_type": "markdown",
   "metadata": {
    "deletable": false,
    "editable": false
   },
   "source": [
    "<!-- END QUESTION -->\n",
    "\n",
    "## Birth Rates\n"
   ]
  },
  {
   "cell_type": "markdown",
   "metadata": {},
   "source": [
    "The CSV file `census.csv` contains census-based population estimates for each state on both July 1, 2022 and July 1, 2023. The data was taken from [the US Census 2020-2023 national totals data set](https://www2.census.gov/programs-surveys/popest/datasets/2020-2023/state/totals/NST-EST2023-ALLDATA.csv). \n",
    "\n",
    "Run the following code cell to load that data into a table called `pop`."
   ]
  },
  {
   "cell_type": "code",
   "execution_count": null,
   "metadata": {},
   "outputs": [],
   "source": [
    "pop = Table.read_table('census.csv')\n",
    "pop"
   ]
  },
  {
   "cell_type": "markdown",
   "metadata": {},
   "source": [
    "Here is a brief explanation of the column labels:\n",
    "\n",
    "* `REGION`: Census Region code\n",
    "* `NAME`: State name\n",
    "* `'2022'`: 7/1/2022 resident total population estimate\n",
    "* `'2023'`\" 7/1/2023 resident total population estimate\n",
    "* `'BIRTHS'`: Births in period 7/1/2022 to 6/30/2023\t\t\t\n",
    "* `'DEATHS'`: Deaths in period 7/1/2022 to 6/30/2023\n",
    "* `'MIGRATION'`: Net migration in period 7/1/2022 to 6/30/2023\n",
    "* `'OTHER'`: Residual for period 7/1/2022 to 6/30/2023\n",
    "\n",
    "The last four columns describe the components of the estimated change in population during this time interval. \n",
    "\n",
    "**Note:** For all questions below, assume that the word \"states\" refers to all 52 rows including Puerto Rico & the District of Columbia."
   ]
  },
  {
   "cell_type": "markdown",
   "metadata": {},
   "source": [
    "### Task 09 📍"
   ]
  },
  {
   "cell_type": "markdown",
   "metadata": {
    "deletable": false,
    "editable": false
   },
   "source": [
    "Assign `us_birth_rate` to the total US annual birth rate during this time interval. The annual birth rate for a year-long period is the total number of births in that period as a proportion of the population size at the start of the time period.\n",
    "\n",
    "**Hint:** Which year corresponds to the start of the time period?\n",
    "\n",
    "\n",
    "_Points:_ 2"
   ]
  },
  {
   "cell_type": "code",
   "execution_count": null,
   "metadata": {
    "tags": []
   },
   "outputs": [],
   "source": [
    "us_birth_rate = ...\n",
    "us_birth_rate"
   ]
  },
  {
   "cell_type": "code",
   "execution_count": null,
   "metadata": {
    "deletable": false,
    "editable": false
   },
   "outputs": [],
   "source": [
    "grader.check(\"task_09\")"
   ]
  },
  {
   "cell_type": "markdown",
   "metadata": {},
   "source": [
    "### Task 10 📍"
   ]
  },
  {
   "cell_type": "markdown",
   "metadata": {
    "deletable": false,
    "editable": false
   },
   "source": [
    "Assign `movers` to the number of states for which the **absolute value** of the **annual rate of migration** was higher than 1%. The annual rate of migration for a year-long period is the net number of migrations (in and out) as a proportion of the population size at the start of the period. The `MIGRATION` column contains estimated annual net migration counts by state.\n",
    "\n",
    "\n",
    "_Points:_ 2"
   ]
  },
  {
   "cell_type": "code",
   "execution_count": null,
   "metadata": {
    "tags": []
   },
   "outputs": [],
   "source": [
    "migration_rates = ...\n",
    "movers = ...\n",
    "movers"
   ]
  },
  {
   "cell_type": "code",
   "execution_count": null,
   "metadata": {
    "deletable": false,
    "editable": false
   },
   "outputs": [],
   "source": [
    "grader.check(\"task_10\")"
   ]
  },
  {
   "cell_type": "markdown",
   "metadata": {},
   "source": [
    "### Task 11 📍"
   ]
  },
  {
   "cell_type": "markdown",
   "metadata": {
    "deletable": false,
    "editable": false
   },
   "source": [
    "Assign `west_births` to the total number of births that occurred in region 4 (the Western US). \n",
    "\n",
    "**Hint:** Make sure you double check the type of the values in the region column, and appropriately filter (i.e. the types must match!).\n",
    "\n",
    "\n",
    "_Points:_ 2"
   ]
  },
  {
   "cell_type": "code",
   "execution_count": null,
   "metadata": {
    "tags": []
   },
   "outputs": [],
   "source": [
    "west_births = ...\n",
    "west_births"
   ]
  },
  {
   "cell_type": "code",
   "execution_count": null,
   "metadata": {
    "deletable": false,
    "editable": false
   },
   "outputs": [],
   "source": [
    "grader.check(\"task_11\")"
   ]
  },
  {
   "cell_type": "markdown",
   "metadata": {},
   "source": [
    "### Task 12 📍"
   ]
  },
  {
   "cell_type": "markdown",
   "metadata": {
    "deletable": false,
    "editable": false
   },
   "source": [
    "Assign `less_than_west_births` to the number of states that had a total population in 2023 that was smaller than the *total number of births in region 4 (the Western US)* during this time interval.\n",
    "\n",
    "\n",
    "_Points:_ 2"
   ]
  },
  {
   "cell_type": "code",
   "execution_count": null,
   "metadata": {
    "tags": []
   },
   "outputs": [],
   "source": [
    "less_than_west_births = ...\n",
    "less_than_west_births"
   ]
  },
  {
   "cell_type": "code",
   "execution_count": null,
   "metadata": {
    "deletable": false,
    "editable": false
   },
   "outputs": [],
   "source": [
    "grader.check(\"task_12\")"
   ]
  },
  {
   "cell_type": "markdown",
   "metadata": {},
   "source": [
    "### Task 13 📍"
   ]
  },
  {
   "cell_type": "markdown",
   "metadata": {
    "deletable": false,
    "editable": false
   },
   "source": [
    "In the next question, you will be creating a visualization to understand the relationship between birth and death rates for the states. The annual death rate for a year-long period in a state is the total number of deaths in that period for that state as a proportion of the population size at the start of the time period for that state.\n",
    "\n",
    "What visualization is most appropriate to see if there is an association between birth and death rates during a given time interval among the states?\n",
    "\n",
    "1. Line Graph\n",
    "<br>\n",
    "2. Scatter Plot\n",
    "<br>\n",
    "3. Bar Chart\n",
    "\n",
    "Assign `visualization` below to the number corresponding to the correct visualization.\n",
    "\n",
    "\n",
    "_Points:_ 2"
   ]
  },
  {
   "cell_type": "code",
   "execution_count": null,
   "metadata": {
    "tags": []
   },
   "outputs": [],
   "source": [
    "visualization = ..."
   ]
  },
  {
   "cell_type": "code",
   "execution_count": null,
   "metadata": {
    "deletable": false,
    "editable": false
   },
   "outputs": [],
   "source": [
    "grader.check(\"task_13\")"
   ]
  },
  {
   "cell_type": "markdown",
   "metadata": {},
   "source": [
    "### Task 14 📍🔎"
   ]
  },
  {
   "cell_type": "markdown",
   "metadata": {
    "deletable": false,
    "editable": false
   },
   "source": [
    "<!-- BEGIN QUESTION -->\n",
    "\n",
    "In the code cell below, create a visualization that will help us determine if there is an association between birth rate and death rate during this time interval among the states. \n",
    "\n",
    "It may be helpful to create intermediate variables. In our template, we've introduced the names `birth_rates_2022` and `death_rates_2022` as suggestions. We will not test those names, so you do not need to use them. We will only score the visualization you produce.\n",
    "\n",
    "\n",
    "_Points:_ 2"
   ]
  },
  {
   "cell_type": "code",
   "execution_count": null,
   "metadata": {
    "export_pdf": true,
    "manual_problem_id": "birth_death_rates_graph",
    "tags": []
   },
   "outputs": [],
   "source": [
    "birth_rates_2022 = ...\n",
    "death_rates_2022 = ...\n",
    "\n",
    "# Leave the following code to add a title to your graph\n",
    "plt.title('2022 Death Rate vs. Birth Rate')\n",
    "plt.show()"
   ]
  },
  {
   "cell_type": "markdown",
   "metadata": {
    "deletable": false,
    "editable": false
   },
   "source": [
    "<!-- END QUESTION -->\n",
    "\n",
    "### Task 15 📍"
   ]
  },
  {
   "cell_type": "markdown",
   "metadata": {
    "deletable": false,
    "editable": false
   },
   "source": [
    "`True` or `False`: There is an association between birth rate and death rate during this time interval among the states. \n",
    "\n",
    "Assign `assoc` to `True` or `False` in the cell below. \n",
    "\n",
    "\n",
    "_Points:_ 2"
   ]
  },
  {
   "cell_type": "code",
   "execution_count": null,
   "metadata": {
    "tags": []
   },
   "outputs": [],
   "source": [
    "assoc = ..."
   ]
  },
  {
   "cell_type": "code",
   "execution_count": null,
   "metadata": {
    "deletable": false,
    "editable": false
   },
   "outputs": [],
   "source": [
    "grader.check(\"task_15\")"
   ]
  },
  {
   "cell_type": "markdown",
   "metadata": {},
   "source": [
    "## Marginal Histograms\n"
   ]
  },
  {
   "cell_type": "markdown",
   "metadata": {},
   "source": [
    "Consider the following scatter plot: \n",
    "\n",
    "<img src=\"scatter.png\" alt=\"The Scatter plot\" width=40%>\n",
    "\n",
    "The axes of the plot represent values of two variables: $x$ and $y$. "
   ]
  },
  {
   "cell_type": "markdown",
   "metadata": {},
   "source": [
    "Suppose we have a table called `t` that has two columns in it:\n",
    "\n",
    "- `x`: a column containing the x-values of the points in the scatter plot\n",
    "- `y`: a column containing the y-values of the points in the scatter plot"
   ]
  },
  {
   "cell_type": "markdown",
   "metadata": {},
   "source": [
    "Below, you are given two histograms, each of which corresponds to either column `x` or column `y`. "
   ]
  },
  {
   "cell_type": "markdown",
   "metadata": {},
   "source": [
    "### Histogram A"
   ]
  },
  {
   "cell_type": "markdown",
   "metadata": {},
   "source": [
    "<img src=\"histogram_A.png\" alt=\"Histogram A\" width=40%>"
   ]
  },
  {
   "cell_type": "markdown",
   "metadata": {},
   "source": [
    "### Histogram B"
   ]
  },
  {
   "cell_type": "markdown",
   "metadata": {},
   "source": [
    "<img src=\"histogram_B.png\" alt=\"Histogram B\" width=40%>"
   ]
  },
  {
   "cell_type": "markdown",
   "metadata": {},
   "source": [
    "### Task 16 📍"
   ]
  },
  {
   "cell_type": "markdown",
   "metadata": {
    "deletable": false,
    "editable": false
   },
   "source": [
    "Suppose we run `t.hist('x')`. Which histogram does this code produce? Assign `histogram_column_x` to one of the following strings: `'A'`, `'B'`, or `'Neither'`.\n",
    "\n",
    "_Points:_ 2"
   ]
  },
  {
   "cell_type": "code",
   "execution_count": null,
   "metadata": {
    "tags": []
   },
   "outputs": [],
   "source": [
    "histogram_column_x = ..."
   ]
  },
  {
   "cell_type": "code",
   "execution_count": null,
   "metadata": {
    "deletable": false,
    "editable": false
   },
   "outputs": [],
   "source": [
    "grader.check(\"task_16\")"
   ]
  },
  {
   "cell_type": "markdown",
   "metadata": {},
   "source": [
    "### Task 17 📍"
   ]
  },
  {
   "cell_type": "markdown",
   "metadata": {
    "deletable": false,
    "editable": false
   },
   "source": [
    "Suppose we run `t.hist('y')`. Which histogram does this code produce? `Assign histogram_column_y` to one of the following strings: `'A'`, `'B'`, or `'Neither'`.\n",
    "\n",
    "_Points:_ 2"
   ]
  },
  {
   "cell_type": "code",
   "execution_count": null,
   "metadata": {
    "tags": []
   },
   "outputs": [],
   "source": [
    "histogram_column_y = ..."
   ]
  },
  {
   "cell_type": "code",
   "execution_count": null,
   "metadata": {
    "deletable": false,
    "editable": false
   },
   "outputs": [],
   "source": [
    "grader.check(\"task_17\")"
   ]
  },
  {
   "cell_type": "markdown",
   "metadata": {},
   "source": [
    "## Uber Movement"
   ]
  },
  {
   "cell_type": "markdown",
   "metadata": {},
   "source": [
    "According to the [Uber Movement page](https://www.uber.com/us/en/community/supporting-cities/data/):\n",
    "> Planning great cities requires great data. Uber gathers trip data in more than 10,000 cities across the world. So why not share it? Enter Uber Movement, which gives urban planners access to Uber’s aggregated data to help make informed decisions about our cities.\n",
    "\n",
    "The Uber Movement project and data access have ended, but we still have data from Boston and Manila during. Below we load tables containing 200,000 weekday Uber rides in the Manila, Philippines, and Boston, Massachusetts metropolitan areas from the Uber Movement project. The `'sourceid'` and `'dstid'` columns contain codes corresponding to start and end locations of each ride. The `'hod'` column contains codes corresponding to the hour of the day the ride took place. The ride time column contains the length of the ride in minutes.\n",
    "\n",
    "Run the following code cell to create the table `uber` which contains the available Uber ride data for Boston and Manila."
   ]
  },
  {
   "cell_type": "code",
   "execution_count": null,
   "metadata": {},
   "outputs": [],
   "source": [
    "boston = Table.read_table(\"boston.csv\").with_column('city', ['Boston']*200_000)\n",
    "manila = Table.read_table(\"manila.csv\").with_column('city', ['Manila']*200_000)\n",
    "uber = boston.append(manila)\n",
    "uber"
   ]
  },
  {
   "cell_type": "markdown",
   "metadata": {
    "tags": []
   },
   "source": [
    "### Task 18 📍🔎"
   ]
  },
  {
   "cell_type": "markdown",
   "metadata": {
    "deletable": false,
    "editable": false
   },
   "source": [
    "<!-- BEGIN QUESTION -->\n",
    "\n",
    "Using the `uber` table, produce an overlaid histogram that visualizes the distributions of all ride times in Boston and Manila. Use the `group='city'` argument with the [`hist` table method](https://datascience.readthedocs.io/en/master/_autosummary/datascience.tables.Table.hist.html#datascience.tables.Table.hist) to accomplish this. Additionally, use the given bins in `equal_bins` by utilizing the `bins` argument for the `hist` table method.\n",
    "\n",
    "_Points:_ 2"
   ]
  },
  {
   "cell_type": "code",
   "execution_count": null,
   "metadata": {
    "tags": []
   },
   "outputs": [],
   "source": [
    "equal_bins = np.arange(0, 120, 5)\n",
    "...\n",
    "\n",
    "# Leave the following code to add a title to your histogram\n",
    "plt.title('Distribution of Boston and Manila Ride Times')\n",
    "plt.show()"
   ]
  },
  {
   "cell_type": "markdown",
   "metadata": {
    "deletable": false,
    "editable": false,
    "tags": []
   },
   "source": [
    "<!-- END QUESTION -->\n",
    "\n",
    "### Task 19 📍🔎"
   ]
  },
  {
   "cell_type": "markdown",
   "metadata": {
    "deletable": false,
    "editable": false
   },
   "source": [
    "<!-- BEGIN QUESTION -->\n",
    "\n",
    "Why do you think the distributions for Boston and Manila are different? \n",
    "\n",
    "For this task:\n",
    "* Form a hypothesis that identifies external factors of the two cities that may be causing the difference!\n",
    "* Provide at least one reference (link) to support your claim.\n",
    "\n",
    "_Points:_ 2"
   ]
  },
  {
   "cell_type": "markdown",
   "metadata": {},
   "source": [
    "_Type your answer here, replacing this text._"
   ]
  },
  {
   "cell_type": "markdown",
   "metadata": {
    "deletable": false,
    "editable": false,
    "tags": []
   },
   "source": [
    "<!-- END QUESTION -->\n",
    "\n",
    "### Task 20 📍🔎"
   ]
  },
  {
   "cell_type": "markdown",
   "metadata": {
    "deletable": false,
    "editable": false
   },
   "source": [
    "<!-- BEGIN QUESTION -->\n",
    "\n",
    "From the histograms, it looks like there are more 20 to 40-minute Uber rides in Manila compared to Boston. Histograms reflect density, so be careful of interpreting the heights of the bars as counts. It is okay to compare the histograms directly because they both represent 200,000 data points. For this task, produce a bar chart showing that Manila does have more 20 to 40-minute Uber rides than Boston. \n",
    "\n",
    "**Note:** For this task, it doesn't matter if you include 40-minute rides in your count or not.\n",
    "\n",
    "**Hint:** Consider using the [`group` table method](https://datascience.readthedocs.io/en/master/_autosummary/datascience.tables.Table.group.html).\n",
    "\n",
    "_Points:_ 2"
   ]
  },
  {
   "cell_type": "code",
   "execution_count": null,
   "metadata": {
    "tags": []
   },
   "outputs": [],
   "source": [
    "...\n",
    "\n",
    "# Leave the following code to add a title to your histogram\n",
    "plt.title('Number of Uber Rides between 20 and 40 Minutes')\n",
    "plt.show()"
   ]
  },
  {
   "cell_type": "markdown",
   "metadata": {
    "deletable": false,
    "editable": false,
    "jp-MarkdownHeadingCollapsed": true,
    "tags": []
   },
   "source": [
    "<!-- END QUESTION -->\n",
    "\n",
    "## Submit your Homework to Canvas\n",
    "\n",
    "Once you have finished working on the homework tasks, prepare to submit your work in Canvas by completing the following steps.\n",
    "\n",
    "1. In the related Canvas Assignment page, check the rubric to know how you will be scored for this assignment.\n",
    "2. Double-check that you have run the code cell near the end of the notebook that contains the command `\"grader.check_all()\"`. This command will run all of the run tests on all your responses to the auto-graded tasks marked with 📍.\n",
    "3. Double-check your responses to the manually graded tasks marked with 📍🔎.\n",
    "3. Select the menu item \"File\" and \"Save Notebook\" in the notebook's Toolbar to save your work and create a specific checkpoint in the notebook's work history.\n",
    "4. Select the menu items \"File\", \"Download\" in the notebook's Toolbar to download the notebook (.ipynb) file. \n",
    "5. In the related Canvas Assignment page, click Start Assignment or New Attempt to upload the downloaded .ipynb file.\n",
    "\n",
    "**Keep in mind that the autograder does not always check for correctness. Sometimes it just checks for the format of your answer, so passing the autograder for a question does not mean you got the answer correct for that question.**"
   ]
  },
  {
   "cell_type": "markdown",
   "metadata": {
    "deletable": false,
    "editable": false
   },
   "source": [
    "---\n",
    "\n",
    "To double-check your work, the cell below will rerun all of the autograder tests."
   ]
  },
  {
   "cell_type": "code",
   "execution_count": null,
   "metadata": {
    "deletable": false,
    "editable": false
   },
   "outputs": [],
   "source": [
    "grader.check_all()"
   ]
  }
 ],
 "metadata": {
  "hide_input": false,
  "kernelspec": {
   "display_name": "Python 3 (ipykernel)",
   "language": "python",
   "name": "python3"
  },
  "language_info": {
   "codemirror_mode": {
    "name": "ipython",
    "version": 3
   },
   "file_extension": ".py",
   "mimetype": "text/x-python",
   "name": "python",
   "nbconvert_exporter": "python",
   "pygments_lexer": "ipython3",
   "version": "3.10.12"
  },
  "otter": {
   "OK_FORMAT": true,
   "assignment_name": "hw03_sp24",
   "tests": {
    "task_01": {
     "name": "task_01",
     "points": 1,
     "suites": [
      {
       "cases": [
        {
         "code": ">>> isinstance(unemployment, Table)\nTrue",
         "failure_message": "❌ It doesn't seem that you have assigned the name unemployment to a table. Try using the command Table().read_table(...)",
         "hidden": false,
         "locked": false,
         "points": 0.5,
         "success_message": "✅ It seems that you have assigned the name unemployment to a table."
        },
        {
         "code": ">>> np.isclose(np.sum(unemployment.column('NEI')), 1044.46519909577)\nTrue",
         "failure_message": "❌ The contents in unemployment don't seem correct. Double-check that you are using the unemployment.csv",
         "hidden": false,
         "locked": false,
         "points": 0.5,
         "success_message": "✅ The contents in unemployment seem correct."
        }
       ],
       "scored": true,
       "setup": "",
       "teardown": "",
       "type": "doctest"
      }
     ]
    },
    "task_02": {
     "name": "task_02",
     "points": 0,
     "suites": [
      {
       "cases": [
        {
         "code": ">>> isinstance(unemployment.column('DATE').item(0), date)\nTrue",
         "failure_message": "❌ It doesn't seem like you've run the cell to convert the date data types. Make sure to run the above code cell.)",
         "hidden": false,
         "locked": false,
         "points": 0,
         "success_message": "✅ Great work converting all the dates."
        }
       ],
       "scored": true,
       "setup": "",
       "teardown": "",
       "type": "doctest"
      }
     ]
    },
    "task_03": {
     "name": "task_03",
     "points": 2,
     "suites": [
      {
       "cases": [
        {
         "code": ">>> by_nei.take(0).column(0).item(0) == date(2020, 4, 1)\nTrue",
         "failure_message": "❌ It doesn't look like you have the correct values in by_nei.",
         "hidden": false,
         "locked": false,
         "points": 1,
         "success_message": "✅ It seems like you have the correct values in by_nei."
        },
        {
         "code": ">>> by_nei_pter.take(0).column(0).item(0) == date(2020, 4, 1)\nTrue",
         "failure_message": "❌ It doesn't look like you have the correct values in by_nei_pter.",
         "hidden": false,
         "locked": false,
         "points": 1,
         "success_message": "✅ It seems like you have the correct values in by_nei_pter."
        }
       ],
       "scored": true,
       "setup": "",
       "teardown": "",
       "type": "doctest"
      }
     ]
    },
    "task_04": {
     "name": "task_04",
     "points": 2,
     "suites": [
      {
       "cases": [
        {
         "code": ">>> greatest_nei.num_rows == 10\nTrue",
         "failure_message": "❌ There are not 10 rows (quarters) in your table.",
         "hidden": false,
         "locked": false,
         "points": 1,
         "success_message": "✅ There are 10 rows (quarters) in your table."
        }
       ],
       "scored": true,
       "setup": "",
       "teardown": "",
       "type": "doctest"
      }
     ]
    },
    "task_05": {
     "name": "task_05",
     "points": 2,
     "suites": [
      {
       "cases": [
        {
         "code": ">>> isinstance(pter, np.ndarray)\nTrue",
         "failure_message": "❌ pter doesn't seem to be an array.",
         "hidden": false,
         "locked": false,
         "points": 0.5,
         "success_message": "✅ pter is an array."
        },
        {
         "code": ">>> round(pter.item(6), 4) != -1.1446\nTrue",
         "failure_message": "❌ Be careful of subtracting the arrays in the wrong order.",
         "hidden": false,
         "locked": false,
         "points": 0.5,
         "success_message": "✅ You didn't seem to subtract the correct arrays in the wrong order."
        }
       ],
       "scored": true,
       "setup": "",
       "teardown": "",
       "type": "doctest"
      }
     ]
    },
    "task_06": {
     "name": "task_06",
     "points": 2,
     "suites": [
      {
       "cases": [
        {
         "code": ">>> unemployment.num_columns == 4\nTrue",
         "failure_message": "❌ Your table doesn't have the correct number of columns.",
         "hidden": false,
         "locked": false,
         "points": 1,
         "success_message": "✅ Your table has the correct number of columns."
        }
       ],
       "scored": true,
       "setup": "",
       "teardown": "",
       "type": "doctest"
      }
     ]
    },
    "task_09": {
     "name": "task_09",
     "points": 2,
     "suites": [
      {
       "cases": [
        {
         "code": ">>> 0 < us_birth_rate < 1\nTrue",
         "failure_message": "❌ Make sure you provide a value betwen 0 and 1.",
         "hidden": false,
         "locked": false,
         "points": 1,
         "success_message": "✅ You have provided a possible value."
        }
       ],
       "scored": true,
       "setup": "",
       "teardown": "",
       "type": "doctest"
      }
     ]
    },
    "task_10": {
     "name": "task_10",
     "points": 2,
     "suites": [
      {
       "cases": [
        {
         "code": ">>> 0 < movers <= 52\nTrue",
         "failure_message": "❌ Make sure you provide a value betwen 0 and 52 (inclusive).",
         "hidden": false,
         "locked": false,
         "points": 1,
         "success_message": "✅ You have provided a possible value."
        }
       ],
       "scored": true,
       "setup": "",
       "teardown": "",
       "type": "doctest"
      }
     ]
    },
    "task_11": {
     "name": "task_11",
     "points": 2,
     "suites": [
      {
       "cases": [
        {
         "code": ">>> 500000.0 < west_births < 1000000.0\nTrue",
         "failure_message": "❌ We are looking for a number between 500000 and 1000000.",
         "hidden": false,
         "locked": false,
         "points": 1,
         "success_message": "✅ You have provided a possible value."
        }
       ],
       "scored": true,
       "setup": "",
       "teardown": "",
       "type": "doctest"
      }
     ]
    },
    "task_12": {
     "name": "task_12",
     "points": 2,
     "suites": [
      {
       "cases": [
        {
         "code": ">>> 0 <= less_than_west_births <= 52\nTrue",
         "failure_message": "❌ Make sure you provide a value betwen 0 and 52 (inclusive).",
         "hidden": false,
         "locked": false,
         "points": 1,
         "success_message": "✅ You have provided a possible value."
        }
       ],
       "scored": true,
       "setup": "",
       "teardown": "",
       "type": "doctest"
      }
     ]
    },
    "task_13": {
     "name": "task_13",
     "points": 2,
     "suites": [
      {
       "cases": [
        {
         "code": ">>> visualization in {1, 2, 3}\nTrue",
         "failure_message": "❌ Make sure you provide 1, 2, or 3 as a value.",
         "hidden": false,
         "locked": false,
         "points": 1,
         "success_message": "✅ You have provided a possible value."
        }
       ],
       "scored": true,
       "setup": "",
       "teardown": "",
       "type": "doctest"
      }
     ]
    },
    "task_15": {
     "name": "task_15",
     "points": 2,
     "suites": [
      {
       "cases": [
        {
         "code": ">>> type(assoc) is bool\nTrue",
         "failure_message": "❌ You didn't provide a possible answer. Use True or False.",
         "hidden": false,
         "locked": false,
         "points": 1,
         "success_message": "✅ You provided a possible answer."
        }
       ],
       "scored": true,
       "setup": "",
       "teardown": "",
       "type": "doctest"
      }
     ]
    },
    "task_16": {
     "name": "task_16",
     "points": 2,
     "suites": [
      {
       "cases": [
        {
         "code": ">>> histogram_column_x in {'A', 'B', 'Neither'}\nTrue",
         "failure_message": "❌ Make sure you assign histogram_column_x to either 'A', 'B', or 'Neither'.",
         "hidden": false,
         "locked": false,
         "points": 1,
         "success_message": "✅ You provided a possible answer."
        }
       ],
       "scored": true,
       "setup": "",
       "teardown": "",
       "type": "doctest"
      }
     ]
    },
    "task_17": {
     "name": "task_17",
     "points": 2,
     "suites": [
      {
       "cases": [
        {
         "code": ">>> histogram_column_y in {'A', 'B', 'Neither'}\nTrue",
         "failure_message": "❌ Make sure you assign histogram_column_y to either 'A', 'B', or 'Neither'.",
         "hidden": false,
         "locked": false,
         "points": 1,
         "success_message": "✅ You provided a possible answer."
        }
       ],
       "scored": true,
       "setup": "",
       "teardown": "",
       "type": "doctest"
      }
     ]
    }
   }
  }
 },
 "nbformat": 4,
 "nbformat_minor": 4
}
