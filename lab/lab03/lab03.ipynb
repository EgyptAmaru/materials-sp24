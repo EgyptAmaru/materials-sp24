{
 "cells": [
  {
   "cell_type": "code",
   "execution_count": null,
   "metadata": {
    "deletable": false,
    "editable": false
   },
   "outputs": [],
   "source": [
    "# Initialize Otter\n",
    "import otter\n",
    "grader = otter.Notebook(\"lab03.ipynb\")"
   ]
  },
  {
   "cell_type": "markdown",
   "metadata": {},
   "source": [
    "<img style=\"display: block; margin-left: auto; margin-right: auto\" src=\"./ccsf-logo.png\" width=\"250rem;\" alt=\"The CCSF black and white logo\">"
   ]
  },
  {
   "cell_type": "markdown",
   "metadata": {},
   "source": [
    "<div style=\"text-align: center;\">\n",
    "    <h1>Lab 03 - Tables and Visualization</h1>\n",
    "    <em>View the related <a href=\"https://ccsf.instructure.com\" target=\"_blank\">Canvas</a> Assignment page for additional details.</em>\n",
    "</div>"
   ]
  },
  {
   "cell_type": "markdown",
   "metadata": {},
   "source": [
    "## References"
   ]
  },
  {
   "cell_type": "markdown",
   "metadata": {},
   "source": [
    "* [Sections 6.0 - 6.4 of the Textbook](https://inferentialthinking.com/chapters/06/Tables.html)\n",
    "* [Sections 7.0 - 7.3 of the Textbook](https://inferentialthinking.com/chapters/07/Visualization.html)\n",
    "* [datascience Documentation](https://datascience.readthedocs.io/)\n",
    "* [Markdown Cheat Sheet](https://www.markdownguide.org/cheat-sheet/)"
   ]
  },
  {
   "cell_type": "markdown",
   "metadata": {},
   "source": [
    "First, run the following cell to set up the lab, and make sure you run the cell at the top of the notebook that initializes Otter."
   ]
  },
  {
   "cell_type": "code",
   "execution_count": null,
   "metadata": {},
   "outputs": [],
   "source": [
    "import numpy as np\n",
    "from datascience import *\n",
    "import matplotlib\n",
    "%matplotlib inline\n",
    "import matplotlib.pyplot as plt\n",
    "plt.style.use('fivethirtyeight')"
   ]
  },
  {
   "cell_type": "markdown",
   "metadata": {},
   "source": [
    "## Some Table Operations"
   ]
  },
  {
   "cell_type": "markdown",
   "metadata": {},
   "source": [
    "The CSV file `farmers_markets.csv` contains data on farmers' markets in the United States.  (The was data collected from [the USDA's website](https://apps.ams.usda.gov/FarmersMarketsExport/ExcelExport.aspx)).  Each row represents one such market.\n",
    "\n",
    "Run the next cell to load the `farmers_markets` table."
   ]
  },
  {
   "cell_type": "code",
   "execution_count": null,
   "metadata": {
    "tags": []
   },
   "outputs": [],
   "source": [
    "farmers_markets = Table.read_table('farmers_markets.csv')"
   ]
  },
  {
   "cell_type": "markdown",
   "metadata": {},
   "source": [
    "Let's examine our table to see what data it contains."
   ]
  },
  {
   "cell_type": "markdown",
   "metadata": {},
   "source": [
    "### `show`"
   ]
  },
  {
   "cell_type": "markdown",
   "metadata": {},
   "source": [
    "#### Task 01 📍🔎"
   ]
  },
  {
   "cell_type": "markdown",
   "metadata": {},
   "source": [
    "Use the method `show` to display the first 5 rows of `farmers_markets`. `tbl.show(3)` will show the first 3 rows of `tbl`.\n",
    "\n",
    "Make sure to check your visualization with a classmate, a tutor, or the instructor before moving on since there is no auto-grader for this lab task.\n",
    "\n",
    "**Important Note:** Be careful to not to call `.show()` without an argument. There is a lot of information in the farmers market table and showing it all will crash your kernel!"
   ]
  },
  {
   "cell_type": "markdown",
   "metadata": {
    "deletable": false,
    "editable": false
   },
   "source": [
    "<!-- BEGIN QUESTION -->\n",
    "\n"
   ]
  },
  {
   "cell_type": "code",
   "execution_count": null,
   "metadata": {
    "tags": []
   },
   "outputs": [],
   "source": [
    "..."
   ]
  },
  {
   "cell_type": "markdown",
   "metadata": {
    "deletable": false,
    "editable": false
   },
   "source": [
    "<!-- END QUESTION -->\n",
    "\n",
    "Notice that some of the values in this table are missing, as denoted by `nan`. This means either that the value is not available (e.g. if we don’t know the market’s street address) or not applicable (e.g. if the market doesn’t have a street address). You'll also notice that the table has a large number of columns in it!"
   ]
  },
  {
   "cell_type": "markdown",
   "metadata": {},
   "source": [
    "### `num_columns`"
   ]
  },
  {
   "cell_type": "markdown",
   "metadata": {},
   "source": [
    "The table property `num_columns` returns the number of columns in a table. (A \"property\" is a variable in an object. It is referenced without parentheses.)\n",
    "\n",
    "Example call: `<tbl>.num_columns`"
   ]
  },
  {
   "cell_type": "markdown",
   "metadata": {},
   "source": [
    "#### Task 02 📍"
   ]
  },
  {
   "cell_type": "markdown",
   "metadata": {},
   "source": [
    "Use `num_columns` to find the number of columns in our farmers' markets dataset.\n",
    "\n",
    "Assign the number of columns to `num_farmers_markets_columns`."
   ]
  },
  {
   "cell_type": "code",
   "execution_count": null,
   "metadata": {
    "tags": []
   },
   "outputs": [],
   "source": [
    "num_farmers_markets_columns = ...\n",
    "print(\"The table has\", num_farmers_markets_columns, \"columns in it!\")"
   ]
  },
  {
   "cell_type": "code",
   "execution_count": null,
   "metadata": {
    "deletable": false,
    "editable": false
   },
   "outputs": [],
   "source": [
    "grader.check(\"task_02\")"
   ]
  },
  {
   "cell_type": "markdown",
   "metadata": {},
   "source": [
    "### `num_rows`"
   ]
  },
  {
   "cell_type": "markdown",
   "metadata": {},
   "source": [
    "Similarly, the property `num_rows` tells you how many rows are in a table. Run the following cell to see how that table property can be accessed."
   ]
  },
  {
   "cell_type": "code",
   "execution_count": null,
   "metadata": {},
   "outputs": [],
   "source": [
    "num_farmers_markets_rows = farmers_markets.num_rows\n",
    "print(\"The table has\", num_farmers_markets_rows, \"rows in it!\")"
   ]
  },
  {
   "cell_type": "markdown",
   "metadata": {},
   "source": [
    "### `select` and `drop`"
   ]
  },
  {
   "cell_type": "markdown",
   "metadata": {},
   "source": [
    "Most of the columns are about particular products -- whether the market sells tofu, pet food, etc.  If we're not interested in that information, it just makes the table difficult to read.  This comes up more than you might think, because people who collect and publish data may not know ahead of time what people will want to do with it.\n",
    "\n",
    "In such situations, we can use the table method `select` to choose only the columns that we want in a particular table. It takes any number of arguments. Each should be the name of a column in the table. It returns a new table with only those columns in it. The columns are in the order *in which they were listed as arguments*.\n",
    "\n",
    "For example, the value of `farmers_markets.select(\"MarketName\", \"State\")` is a table with only the name and the state of each farmers' market in `farmers_markets`."
   ]
  },
  {
   "cell_type": "markdown",
   "metadata": {},
   "source": [
    "#### Task 03 📍"
   ]
  },
  {
   "cell_type": "markdown",
   "metadata": {},
   "source": [
    "Use `select` to create a table with only the name, city, county, state, longitude (`x`), and latitude (`y`) of each market.  Assign that new table to the name `farmers_markets_locations`. \n",
    "\n",
    "**Note:** We didn't create the column names (and their format), they come directly from the United States Department of Agriculture data resource. Make sure to be exact when using column names with `select`. Double-check capitalization! In this task, the order of the columns doesn't matter, but it might in future tasks!"
   ]
  },
  {
   "cell_type": "code",
   "execution_count": null,
   "metadata": {
    "tags": []
   },
   "outputs": [],
   "source": [
    "farmers_markets_locations = ...\n",
    "farmers_markets_locations"
   ]
  },
  {
   "cell_type": "code",
   "execution_count": null,
   "metadata": {
    "deletable": false,
    "editable": false
   },
   "outputs": [],
   "source": [
    "grader.check(\"task_03\")"
   ]
  },
  {
   "cell_type": "markdown",
   "metadata": {},
   "source": [
    "### `drop`"
   ]
  },
  {
   "cell_type": "markdown",
   "metadata": {},
   "source": [
    "`drop` serves the same purpose as `select`, but it takes away the columns that you provide rather than the ones that you don't provide. Like `select`, `drop` returns a new table.\n",
    "\n",
    "For example, the following code would create a copy of the `farmers_markets` table without the `FMID` and `updateTime` columns."
   ]
  },
  {
   "cell_type": "code",
   "execution_count": null,
   "metadata": {},
   "outputs": [],
   "source": [
    "farmers_markets.drop(\"FMID\", \"updateTime\")"
   ]
  },
  {
   "cell_type": "markdown",
   "metadata": {},
   "source": [
    "### `where`"
   ]
  },
  {
   "cell_type": "markdown",
   "metadata": {},
   "source": [
    "Now let's say we want a table of all farmers' markets in California. We can use the table method `where` to do this. \n",
    "\n",
    "Run the following cell to filter the table to include only California farmers' markets."
   ]
  },
  {
   "cell_type": "code",
   "execution_count": null,
   "metadata": {},
   "outputs": [],
   "source": [
    "california_farmers_markets = farmers_markets_locations.where('State', are.equal_to('California'))\n",
    "california_farmers_markets"
   ]
  },
  {
   "cell_type": "markdown",
   "metadata": {},
   "source": [
    "Ignore the syntax for the moment.  Instead, try to read that line like this:\n",
    "\n",
    "> Assign the name **`california_farmers_markets`** to a table whose rows are the rows in the **`farmers_markets_locations`** table **`where`** the **`'State'`**s **`are` `equal` `to` `California`**."
   ]
  },
  {
   "cell_type": "markdown",
   "metadata": {},
   "source": [
    "Let's dive into the details a bit more.  `where` takes 2 arguments:\n",
    "\n",
    "1. The name of a column.  `where` finds rows where that column's values meet some criterion.\n",
    "2. A predicate that describes the criterion that the column needs to meet.\n",
    "\n",
    "The predicate in the example above called the function `are.equal_to` with the value we wanted, 'California'.  We'll see other predicates soon.\n",
    "\n",
    "`where` returns a table that's a copy of the original table, but **with only the rows that meet the given predicate**."
   ]
  },
  {
   "cell_type": "markdown",
   "metadata": {},
   "source": [
    "#### Task 04 📍"
   ]
  },
  {
   "cell_type": "markdown",
   "metadata": {},
   "source": [
    "Use `california_farmers_markets` to create a table called `sf_markets` containing farmers' markets in San Francisco, California. \n",
    "\n",
    "**Note:** These aren't all of the markets in the city, but they are the markets listed in USDA's data set."
   ]
  },
  {
   "cell_type": "code",
   "execution_count": null,
   "metadata": {
    "tags": []
   },
   "outputs": [],
   "source": [
    "sf_markets = ...\n",
    "sf_markets"
   ]
  },
  {
   "cell_type": "code",
   "execution_count": null,
   "metadata": {
    "deletable": false,
    "editable": false
   },
   "outputs": [],
   "source": [
    "grader.check(\"task_04\")"
   ]
  },
  {
   "cell_type": "markdown",
   "metadata": {},
   "source": [
    "So far we've only been using `where` with the predicate that requires finding the values in a column to be *exactly* equal to a certain value. However, there are many other predicates. Here are a few:\n",
    "\n",
    "|Predicate|Example|Result|\n",
    "|-|-|-|\n",
    "|`are.equal_to`|`are.equal_to(50)`|Find rows with values equal to 50|\n",
    "|`are.not_equal_to`|`are.not_equal_to(50)`|Find rows with values not equal to 50|\n",
    "|`are.above`|`are.above(50)`|Find rows with values above (and not equal to) 50|\n",
    "|`are.above_or_equal_to`|`are.above_or_equal_to(50)`|Find rows with values above 50 or equal to 50|\n",
    "|`are.below`|`are.below(50)`|Find rows with values below 50|\n",
    "|`are.between`|`are.between(2, 10)`|Find rows with values above or equal to 2 and below 10|"
   ]
  },
  {
   "cell_type": "markdown",
   "metadata": {},
   "source": [
    "### `group` and `sort`"
   ]
  },
  {
   "cell_type": "markdown",
   "metadata": {},
   "source": [
    "Now, suppose we want to answer a question about farmers' markets in the US. For example, which state(s) have the most number of farmers' markets? \n",
    "\n",
    "To answer this, we'll `group` the table `farmers_markets_locations` by 'State' and then `sort` the resulting table by 'count'.\n",
    "\n",
    "The `group` table method in the `datascience` library is a powerful tool for summarizing and aggregating data based on the unique values within one or more columns. At its core, it works by grouping rows in a table based on the distinct values in one or more specified columns.\n",
    "\n",
    "Run the following cell which takes `farmers_market_locations` and creates a new table that will group the farmers' markets by `'State'` and list the counts for the number of farmers' markets in each state. We will go into greater depth with the `group` method later in the course."
   ]
  },
  {
   "cell_type": "code",
   "execution_count": null,
   "metadata": {},
   "outputs": [],
   "source": [
    "farmers_markets_locations.group('State')"
   ]
  },
  {
   "cell_type": "markdown",
   "metadata": {},
   "source": [
    "Next, to find the states with the most numbers of farmers' markets in this data set, we will sort the 'count' column in descending order and the first states listed will answer our question. \n",
    "\n",
    "Run the following cell to find the states in the data set with the most farmers' markets."
   ]
  },
  {
   "cell_type": "code",
   "execution_count": null,
   "metadata": {},
   "outputs": [],
   "source": [
    "farmers_markets_locations.group('State').sort('count', True)"
   ]
  },
  {
   "cell_type": "markdown",
   "metadata": {},
   "source": [
    "Sorting the table by the count values in descending order, put California at the top of the table to reveal that we have the most number of farmers' markets listed in this particular database."
   ]
  },
  {
   "cell_type": "markdown",
   "metadata": {},
   "source": [
    "#### Task 05 📍"
   ]
  },
  {
   "cell_type": "markdown",
   "metadata": {
    "deletable": false,
    "editable": false
   },
   "source": [
    "Now, do the same thing with California farmers' markets and 'County'. What are the top eight counties in California that have the most farmers' markets?\n",
    "\n",
    "To answer this, `group` `california_farmers_markets` by 'County', then `sort` it in descending order by 'count', and then `take` the first eight rows of the resulting table.  Call the new table `top_8_by_county`."
   ]
  },
  {
   "cell_type": "code",
   "execution_count": null,
   "metadata": {
    "tags": []
   },
   "outputs": [],
   "source": [
    "markets_by_county = ...\n",
    "counties_sorted = ...\n",
    "top_8_by_county = ...\n",
    "top_8_by_county"
   ]
  },
  {
   "cell_type": "code",
   "execution_count": null,
   "metadata": {
    "deletable": false,
    "editable": false
   },
   "outputs": [],
   "source": [
    "grader.check(\"task_05\")"
   ]
  },
  {
   "cell_type": "markdown",
   "metadata": {},
   "source": [
    "There are many more table operations. It is challenging to memorize them all and you do not need to do that! Instead, reference documentation such as the [`datascience` documentation page on `Tables`](https://datascience.readthedocs.io/en/master/tables.html) to reference a summary of all the operations for tables."
   ]
  },
  {
   "cell_type": "markdown",
   "metadata": {},
   "source": [
    "## Visualizations and Attributes"
   ]
  },
  {
   "cell_type": "markdown",
   "metadata": {},
   "source": [
    "Visualizing data is an essential step in gaining insights from the vast and complex datasets that permeate our modern world. There exists a myriad of techniques and tools to transform raw data into comprehensible, meaningful representations. Among these techniques, a set of standard visualizations has emerged as go-to options, each with its unique strengths and applications. The choice of which standard visualization to employ hinges on various factors, a key factor among them being the attribute type of the data under investigation. It's important to note that this attribute type may not always align with the data type in which information is stored, making the selection of an appropriate visualization an artful and pivotal decision in the data analysis process."
   ]
  },
  {
   "cell_type": "markdown",
   "metadata": {},
   "source": [
    "To streamline our understanding of attribute types for data visualization, we can simplify them into two broad categories: **numerical** and **categorical**. \n",
    "* Numerical attributes encompass data that consists of continuous or discrete numeric values. These attributes are typically quantitative and can be operated on mathematically. Examples of numerical attributes include variables like age, temperature, or income.\n",
    "* Categorical attributes deal with data that fall into distinct categories or labels. They represent qualitative information where mathematical operations typically do not have clear meanings. Examples of categorical attributes include gender (male, female, nonbinary), color (red, blue, green), or product categories (electronics, clothing, food).\n",
    "\n",
    "By classifying attributes into these two fundamental types, we can better tailor our choice of visualization methods to the nature of the data, allowing us to extract more valuable insights from it."
   ]
  },
  {
   "cell_type": "markdown",
   "metadata": {},
   "source": [
    "### Numbers for Categories"
   ]
  },
  {
   "cell_type": "markdown",
   "metadata": {},
   "source": [
    "Just because an attribute has values that are numbers, does not mean you should treat the attribute as numerical. Postal codes are numbers. However, the attribute type for postal codes is categorical rather than numerical. Postal codes represent specific geographical regions and are not meant for mathematical operations like addition or subtraction. For example, `90210` (Beverly Hills) and `10001` (Manhattan) are categorical values representing different locations. Choosing an appropriate visualization method for postal codes would involve treating them categorically, not numerically, despite their data type."
   ]
  },
  {
   "cell_type": "markdown",
   "metadata": {
    "tags": []
   },
   "source": [
    "### Task 06 📍"
   ]
  },
  {
   "cell_type": "markdown",
   "metadata": {
    "deletable": false,
    "editable": false
   },
   "source": [
    "Which of the following attributes are categorical in nature? Assign `categorical_attributes` to an array with the numbers for the variables that represent categorical attributes.\n",
    "\n",
    "1. Height in centimeters\n",
    "2. Eye color (e.g., blue, brown, green)\n",
    "3. Temperature in degrees Celsius\n",
    "4. Years of education completed\n",
    "5. Vehicle make and model (e.g., Toyota Camry)\n",
    "6. Employee identification number\n",
    "7. Blood type (e.g., A, B, AB, O)\n",
    "8. Stock prices\n",
    "9. Time of day (e.g., morning, afternoon, evening)\n",
    "10. Mobile phone number"
   ]
  },
  {
   "cell_type": "code",
   "execution_count": null,
   "metadata": {
    "tags": []
   },
   "outputs": [],
   "source": [
    "categorical_attributes = ..."
   ]
  },
  {
   "cell_type": "code",
   "execution_count": null,
   "metadata": {
    "deletable": false,
    "editable": false
   },
   "outputs": [],
   "source": [
    "grader.check(\"task_06\")"
   ]
  },
  {
   "cell_type": "markdown",
   "metadata": {},
   "source": [
    "## Bar Charts"
   ]
  },
  {
   "cell_type": "markdown",
   "metadata": {},
   "source": [
    "When it comes to visualizing categorical data, one of the standard and effective methods is the use of bar charts. Bar charts allow us to represent categorical variables by displaying their frequencies or proportions as bars of different lengths or heights. \n",
    "\n",
    "In Python, you can create bar charts easily using libraries like `matplotlib` or `datascience`. Specifically, the `datascience` library provides the `bar` and `barh` table methods, which simplify the process of generating bar charts. The `bar` method is used for vertical bar charts, while the `barh` method is employed for horizontal bar charts."
   ]
  },
  {
   "cell_type": "markdown",
   "metadata": {},
   "source": [
    "Run the following code cell to create the table `car_inventory`."
   ]
  },
  {
   "cell_type": "code",
   "execution_count": null,
   "metadata": {},
   "outputs": [],
   "source": [
    "car_inventory = Table().with_columns(\n",
    "    'Car Type', ['Sedan', 'SUV', 'Truck', 'Hatchback'],\n",
    "    'Count', [25, 15, 12, 8]\n",
    ")\n",
    "car_inventory"
   ]
  },
  {
   "cell_type": "markdown",
   "metadata": {},
   "source": [
    "Using the `barh` table method, you can create a horizontal bar chart to visualize the distribution of car types in `car_inventory`.\n",
    "\n",
    "Run the following code cell to generate the bar chart."
   ]
  },
  {
   "cell_type": "code",
   "execution_count": null,
   "metadata": {},
   "outputs": [],
   "source": [
    "car_inventory.barh('Car Type', 'Count')\n",
    "\n",
    "# Optional Customization\n",
    "plt.title('Distribution of Car Types')\n",
    "plt.show()"
   ]
  },
  {
   "cell_type": "markdown",
   "metadata": {},
   "source": [
    "This visualization method is invaluable for quickly grasping the distribution and comparison of categorical data."
   ]
  },
  {
   "cell_type": "markdown",
   "metadata": {},
   "source": [
    "The `barh` method has a few arguments, but two important ones are the first two.\n",
    "\n",
    "* The first argument `column_for_categories` specifies which column in the table to use for the categorical values. In this case, `column_for_categories='Car Type'`.\n",
    "* The second argument `select` specifies what values to use as the length of the bars. If you don't specify this argument, then it will try to use columns with numerical data to generate the bars. In this case, `select='Count'`.\n",
    "\n",
    "There are other arguments to experiment with, but you will typically just need to work with these two.\n"
   ]
  },
  {
   "cell_type": "markdown",
   "metadata": {},
   "source": [
    "### Visualizing California Farmers' Market Data"
   ]
  },
  {
   "cell_type": "markdown",
   "metadata": {
    "tags": []
   },
   "source": [
    "### Task 07 📍🔎"
   ]
  },
  {
   "cell_type": "markdown",
   "metadata": {
    "deletable": false,
    "editable": false
   },
   "source": [
    "<!-- BEGIN QUESTION -->\n",
    "\n",
    "Using the `top_8_by_county` table from Task 06 above, create a bar chart showing the distribution of the number of farmers' markets for the top eight counties in California.\n",
    "\n",
    "_Make sure to check your visualization with a classmate, a tutor, or the instructor before moving on since there is no auto-grader for this lab task._"
   ]
  },
  {
   "cell_type": "code",
   "execution_count": null,
   "metadata": {
    "tags": []
   },
   "outputs": [],
   "source": [
    "# Generate your chart in this cell\n",
    "...\n",
    "\n",
    "plt.title('Top 8 California Counties')\n",
    "plt.show()"
   ]
  },
  {
   "cell_type": "markdown",
   "metadata": {
    "deletable": false,
    "editable": false
   },
   "source": [
    "<!-- END QUESTION -->\n",
    "\n",
    "Great work so far! If your data is organized it is pretty easy to make a good, basic visualization. In a more realistic situation, you would be that you need to clean up your data and re-organize it to be able to make the visualization you want to make. So, this means that you will usually need to perform a few table operations first and then visualize."
   ]
  },
  {
   "cell_type": "markdown",
   "metadata": {},
   "source": [
    "### Corporate Contributions"
   ]
  },
  {
   "cell_type": "markdown",
   "metadata": {},
   "source": [
    "The [OpenSecret Corporate Contributions to Outside Groups page](https://www.opensecrets.org/outside-spending/corporate-contributions) states that:\n",
    "\n",
    "> Unlike conventional PACs (political action committees), super PACs and other outside groups can receive direct contributions from corporate treasuries.\n",
    "\n",
    "Run the following code cell to see a list of corporations that have made direct contributions of $1,000,000 or more to an outside group. (Last Updated: November 13, 2023)\n",
    "\n",
    "**Note**: This cell contains extra code that you are not responsible for. Extra formatting was needed to get the dates in a usable format."
   ]
  },
  {
   "cell_type": "code",
   "execution_count": null,
   "metadata": {},
   "outputs": [],
   "source": [
    "corporate_contributions = Table.read_table('corporate_contributions.csv')\n",
    "\n",
    "# Convert all date strings to datetime objects\n",
    "from datetime import datetime\n",
    "input_format = \"%m/%d/%Y\"\n",
    "dates = corporate_contributions.column('Date')\n",
    "dates = [datetime.strptime(date_string, input_format) for date_string in dates]\n",
    "corporate_contributions = corporate_contributions.with_column('Date', dates)\n",
    "\n",
    "corporate_contributions"
   ]
  },
  {
   "cell_type": "markdown",
   "metadata": {
    "tags": []
   },
   "source": [
    "### Task 08 📍"
   ]
  },
  {
   "cell_type": "markdown",
   "metadata": {
    "deletable": false,
    "editable": false
   },
   "source": [
    "Use the `group` method with the `corporate_contributions` table to create a table called `viewpoints` with two columns in the following order: '`Recipient Viewpoint`' and `'Percentage'`. This table should show the distribution of `'Recipient Viewpoint'` values in this data set.\n",
    "\n",
    "**Hint**: The group method gives you counts by default. Extract the count information from the grouped table, divide each count by the total number of items in the table, and multiply by 100 to get the correct percentage. You can then put the percentages back in the table using `with_column` and clean up the table using the `drop` method."
   ]
  },
  {
   "cell_type": "code",
   "execution_count": null,
   "metadata": {
    "tags": []
   },
   "outputs": [],
   "source": [
    "viewpoints = ..."
   ]
  },
  {
   "cell_type": "code",
   "execution_count": null,
   "metadata": {
    "deletable": false,
    "editable": false
   },
   "outputs": [],
   "source": [
    "grader.check(\"task_08\")"
   ]
  },
  {
   "cell_type": "markdown",
   "metadata": {
    "tags": []
   },
   "source": [
    "### Task 09 📍🔎"
   ]
  },
  {
   "cell_type": "markdown",
   "metadata": {
    "deletable": false,
    "editable": false
   },
   "source": [
    "<!-- BEGIN QUESTION -->\n",
    "\n",
    "Using the `viewpoints` table, create a bar chart showing the distribution of recipient viewpoints for corporate contributions of at least $1,000,000. Make sure that the bars of your chart are organized such that the largest bars are at the top and the smallest are at the bottom.\n",
    "\n",
    "_Make sure to check your visualization with a classmate, a tutor, or the instructor before moving on since there is no auto-grader for this lab task._"
   ]
  },
  {
   "cell_type": "code",
   "execution_count": null,
   "metadata": {
    "tags": []
   },
   "outputs": [],
   "source": [
    "# Generate your chart in this cell\n",
    "...\n",
    "\n",
    "plt.title('Distribution of Corporate Contribution Recipient Viewpoints')\n",
    "plt.show()"
   ]
  },
  {
   "cell_type": "markdown",
   "metadata": {
    "deletable": false,
    "editable": false
   },
   "source": [
    "<!-- END QUESTION -->\n",
    "\n",
    "One thing to keep in mind when looking at this visualization is that **some corporations made more than one contribution to the same recipient**. So, once you know how to work with the `group` method a little bit more, you might want to revisit this example and create a visualization that better shows the association between corporate contributions and recipient viewpoints."
   ]
  },
  {
   "cell_type": "markdown",
   "metadata": {},
   "source": [
    "## Histograms"
   ]
  },
  {
   "cell_type": "markdown",
   "metadata": {},
   "source": [
    "When it comes to visualizing numerical data, one of the default and fundamental techniques is to use a histogram. Histograms provide a graphical representation of the distribution of numerical values within a dataset, allowing you to observe patterns, central tendencies, and variations. \n",
    "\n",
    "In the `datascience` library, you can create histograms conveniently using the `hist` table method. \n",
    "\n",
    "When working with histograms, it's essential to consider the choice of bin sizes or intervals, as this can impact the interpretation of the data. \n",
    "\n",
    "The `hist` method defaults to displaying data density on the vertical axis rather than raw counts. This means that the height of each bar in the histogram represents the density of data within that bin, and the area of the bar, not the count, reflects the amount of data. This distinction is crucial for accurately understanding the distribution of numerical data and is a core concept in data visualization and analysis."
   ]
  },
  {
   "cell_type": "markdown",
   "metadata": {},
   "source": [
    "Run the following code cell to create a table called `ages` contain the ages of a group of people."
   ]
  },
  {
   "cell_type": "code",
   "execution_count": null,
   "metadata": {},
   "outputs": [],
   "source": [
    "ages = Table().with_column(\n",
    "    'Age', [12, 15, 18, 20, 22, 25, 26, 28, 30, 32, 35, 36, 38, 40, 45, 50, 55]\n",
    ")\n",
    "ages"
   ]
  },
  {
   "cell_type": "markdown",
   "metadata": {},
   "source": [
    "To visualize this distribution, you can use the code `ages.hist('Age')`. `hist` has several arguments, but the first argument `columns` identifies the column(s) that contain the numerical data for the histogram."
   ]
  },
  {
   "cell_type": "code",
   "execution_count": null,
   "metadata": {},
   "outputs": [],
   "source": [
    "ages.hist('Age')\n",
    "\n",
    "# Optional Customization\n",
    "plt.title('Distribution of Ages')\n",
    "plt.show()"
   ]
  },
  {
   "cell_type": "markdown",
   "metadata": {},
   "source": [
    "The `hist` table method offers two other arguments that are worth mentioning for this class: `bins` and `unit`. These arguments play a pivotal role in customizing the appearance and interpretation of the histogram. \n",
    "\n",
    "* The `bins` argument allows you to specify the number of bins or intervals into which the data range will be divided. A well-chosen number of bins can significantly affect the visual representation of the data, influencing the granularity of the histogram. By default, there is an algorithm that attempts to generate \"good\" bins, but you might need to specifically define the bins with an array or the number of bins with an integer to get the histogram to look good for your situation.\n",
    "* The `unit` argument provides a way to provide labels to the horizontal and vertical axes as a reminder of what the units of the data are."
   ]
  },
  {
   "cell_type": "markdown",
   "metadata": {},
   "source": [
    "The ages are most likely measured in years and it might make sense to bin these ages by creating bins that are 10 years wide. You can achieve this with the parameters `unit=\"Years\"` and `bins=np.arange(10, 61, 10)`. \n",
    "\n",
    "Run the following code cell to see the results."
   ]
  },
  {
   "cell_type": "code",
   "execution_count": null,
   "metadata": {},
   "outputs": [],
   "source": [
    "ages.hist('Age', unit=\"Years\", bins=np.arange(10, 61, 10))\n",
    "\n",
    "# Optional Customization\n",
    "plt.title('Distribution of Ages')\n",
    "plt.show()"
   ]
  },
  {
   "cell_type": "markdown",
   "metadata": {},
   "source": [
    "Notice how the shape of the histogram changes! The same numerical data can look very different in a histogram depending on how it is binned. This can be used as a tool for analysis and inquiry, but it can also be used as a tool to misguide."
   ]
  },
  {
   "cell_type": "markdown",
   "metadata": {
    "tags": []
   },
   "source": [
    "### Task 10 📍"
   ]
  },
  {
   "cell_type": "markdown",
   "metadata": {
    "deletable": false,
    "editable": false
   },
   "source": [
    "The `'Amount'` label in the `corporate_contributions` table shows the amount that the corporation contributed. Your next task will be to visualize the distribution of contribution amounts, but there is a problem with the data. The amounts are presented as strings. Later in the course, you'll learn how to deal with this. For now, we will help you out by creating an array called `amounts` of all the dollar amounts as floats. \n",
    "\n",
    "Run the following cell to create that array."
   ]
  },
  {
   "cell_type": "code",
   "execution_count": null,
   "metadata": {
    "deletable": false,
    "editable": false
   },
   "outputs": [],
   "source": [
    "# Just run this cell. You will learn a way to do this later in the course\n",
    "amounts_as_strings = corporate_contributions.column('Amount')\n",
    "amounts = np.array([float(s.replace('$', '').replace(',', '')) for s in amounts_as_strings])\n",
    "amounts"
   ]
  },
  {
   "cell_type": "markdown",
   "metadata": {
    "deletable": false,
    "editable": false
   },
   "source": [
    "Now, update the data in the `'Amount'` column in `corporate_contributions` with this array of float values.\n",
    "\n",
    "**Hint**: If you use the `with_column` method with a column label that already exists in the table, then the information in that column will be updated with the array you use with `with_column`."
   ]
  },
  {
   "cell_type": "code",
   "execution_count": null,
   "metadata": {
    "tags": []
   },
   "outputs": [],
   "source": [
    "corporate_contributions = ..."
   ]
  },
  {
   "cell_type": "code",
   "execution_count": null,
   "metadata": {
    "deletable": false,
    "editable": false
   },
   "outputs": [],
   "source": [
    "grader.check(\"task_10\")"
   ]
  },
  {
   "cell_type": "markdown",
   "metadata": {
    "tags": []
   },
   "source": [
    "### Task 11 📍🔎"
   ]
  },
  {
   "cell_type": "markdown",
   "metadata": {
    "deletable": false,
    "editable": false
   },
   "source": [
    "<!-- BEGIN QUESTION -->\n",
    "\n",
    "Now that you have the contribution amounts as a numerical data type. Use the `hist` method on `corporate_contributions` to show the distribution of contribution amounts. The default bins do not end up creating a \"good-looking\" chart, try adjusting the bins to see how the bins impact the visualization.\n",
    "\n",
    "_Make sure to check your visualization with a classmate, a tutor, or the instructor before moving on since there is no auto-grader for this lab task._\n",
    "\n",
    "**Note**: Ultimately, the issue with the histogram looking bad has to do with the fact that there are few really large (over 1 million dollars) contributions, and most contributions are exactly $1,000,000. A better practice might be to analyze the distribution of the contributions over 1 million dollars separately."
   ]
  },
  {
   "cell_type": "code",
   "execution_count": null,
   "metadata": {
    "tags": []
   },
   "outputs": [],
   "source": [
    "# Generate your chart in this cell\n",
    "...\n",
    "\n",
    "plt.title('Distribution of Corporate Contributions')\n",
    "plt.show()"
   ]
  },
  {
   "cell_type": "markdown",
   "metadata": {
    "deletable": false,
    "editable": false
   },
   "source": [
    "<!-- END QUESTION -->\n",
    "\n",
    "## Line Plots and Scatter Plots"
   ]
  },
  {
   "cell_type": "markdown",
   "metadata": {},
   "source": [
    "When it comes to visualizing numerical relationships in data, scatter plots and line plots are two fundamental tools that provide valuable insights. \n",
    "\n",
    "In the `datascience` library, the `scatter` method is used to create scatter plots, while the `plot` method is employed to generate line plots. \n",
    "\n",
    "These visualization techniques share a conceptual similarity: both display data points on a two-dimensional plane, typically with one numerical variable on the x-axis and another on the y-axis. However, the key distinction lies in the purpose and interpretation.\n",
    "\n",
    "* Scatter plots are versatile and are primarily used to showcase the association and general pattern between two numerical variables. They are excellent for revealing relationships, correlations, and outliers in the data.\n",
    "* Line plots are best suited when the horizontal axis represents sequential data, such as time or distance. These plots connect the data points with lines, making them ideal for visualizing trends and showing how a numerical variable changes over a continuous range, as in the case of tracking revenue over time.\n",
    "\n",
    "In essence, scatter plots excel at depicting associations, while line plots are tailor-made for illustrating trends and sequential relationships in numerical data."
   ]
  },
  {
   "cell_type": "markdown",
   "metadata": {},
   "source": [
    "For example, run the following code cell to generate a table called `company_data` showing revenue and profit data for the last ten years for some **fake** company."
   ]
  },
  {
   "cell_type": "code",
   "execution_count": null,
   "metadata": {},
   "outputs": [],
   "source": [
    "# Generate random data\n",
    "np.random.seed(0)\n",
    "years = np.arange(2014, 2024)\n",
    "revenue = np.random.poisson(14, 10) * 2_500\n",
    "profit = revenue * np.random.normal(0.08, 0.002, 10)\n",
    "\n",
    "company_data = Table().with_columns('Year', years, 'Revenue', revenue, 'Profit', profit)\n",
    "company_data"
   ]
  },
  {
   "cell_type": "markdown",
   "metadata": {},
   "source": [
    "A line plot would be a standard choice to visualize the trend of profit over time. This can be done with the command `company_data.plot('Year', 'Profit')`.\n",
    "\n",
    "Run the following code cell to see the results."
   ]
  },
  {
   "cell_type": "code",
   "execution_count": null,
   "metadata": {},
   "outputs": [],
   "source": [
    "company_data.plot('Year', 'Profit')\n",
    "\n",
    "# Optional Customization\n",
    "plt.title('Profits Over Time')\n",
    "plt.show()"
   ]
  },
  {
   "cell_type": "markdown",
   "metadata": {},
   "source": [
    "The trend of this line shows that there was something very significant that happened around 2018 to make the company very profitable. After a short period of time of high profits, there was a steep decline in profit levels that were lower than in years previous to 2018. For the last few years, the company's profits seem to lack stability. This is likely due to economic instability surrounding the pandemic, but all this profit data was made up and so is money. 🤓"
   ]
  },
  {
   "cell_type": "markdown",
   "metadata": {},
   "source": [
    "It might be nice to compare the trends of two numerical distributions over the same horizontal axis. This would be a great time to try an overlaid line plot. For example, you could plot the lines for both profit and revenue over time.\n",
    "\n",
    "The `plot` method can handle this by making sure the table only contains the variables you are interested in `'Year'`, `'Profit'`, and `'Revenue'` and just specifying the horizontal axis in the `plot` method. For example, just use `company_data.plot('Year')`.\n",
    "\n",
    "Run the following cell to see that a line is created for every numerical column in the table other than `'Year'`."
   ]
  },
  {
   "cell_type": "code",
   "execution_count": null,
   "metadata": {},
   "outputs": [],
   "source": [
    "company_data.plot('Year')\n",
    "\n",
    "# Optional Customization\n",
    "plt.title('Revenue and Profits Over Time')\n",
    "plt.show()"
   ]
  },
  {
   "cell_type": "markdown",
   "metadata": {},
   "source": [
    "Revenue looks much less stable on this graph because of the scale of the values. Profits were hovering around 8% of revenue, so putting both lines on the y-axis doesn't offer a fair comparison."
   ]
  },
  {
   "cell_type": "markdown",
   "metadata": {},
   "source": [
    "How do you better see the relationship between revenue and profit? Since the data are not sequential and you are just looking to visualize the association, use a scatter plot. The `scatter` method would help out with this. Since profit follows from revenue, it is standard practice to have the horizontal axis reflect revenue values. Use the command `company_data.scatter('Revenue', 'Profit')` to make this happen.\n",
    "\n",
    "Run the following cell to see the results."
   ]
  },
  {
   "cell_type": "code",
   "execution_count": null,
   "metadata": {},
   "outputs": [],
   "source": [
    "company_data.scatter('Revenue', 'Profit')\n",
    "\n",
    "# Optional Customization\n",
    "plt.title('Revenue vs. Profit')\n",
    "plt.show()"
   ]
  },
  {
   "cell_type": "markdown",
   "metadata": {},
   "source": [
    "This shows a pretty strong (linear) positive relationship between revenue and profit. Dividing the profit values by the revenue shows a pretty stable profit margin of roughly 8%."
   ]
  },
  {
   "cell_type": "code",
   "execution_count": null,
   "metadata": {},
   "outputs": [],
   "source": [
    "profit_margins = company_data.column('Profit') / company_data.column('Revenue')\n",
    "print('The profit margins (profile/revenue) are:\\n')\n",
    "display(profit_margins)\n",
    "average_profit_margin = \"{:.2%}\".format(np.average(profit_margins))\n",
    "print(f'\\nThe average profit margin over this period is {average_profit_margin}')"
   ]
  },
  {
   "cell_type": "markdown",
   "metadata": {
    "tags": []
   },
   "source": [
    "### Task 12 📍🔎"
   ]
  },
  {
   "cell_type": "markdown",
   "metadata": {
    "deletable": false,
    "editable": false
   },
   "source": [
    "<!-- BEGIN QUESTION -->\n",
    "\n",
    "For this task, return to the corporate contribution data in `corporate_contributions`, and create a line plot using the `plot` table method to visualize the trend of corporate contributions over the election cycle.\n",
    "\n",
    "_Make sure to check your visualization with a classmate, a tutor, or the instructor before moving on since there is no auto-grader for this lab task._"
   ]
  },
  {
   "cell_type": "code",
   "execution_count": null,
   "metadata": {
    "tags": []
   },
   "outputs": [],
   "source": [
    "# Generate your chart in this cell\n",
    "...\n",
    "\n",
    "# Customization\n",
    "plt.title('Contributions Over Time')\n",
    "plt.gcf().set_size_inches(15, 5)\n",
    "plt.xticks(rotation=45)\n",
    "plt.show()"
   ]
  },
  {
   "cell_type": "markdown",
   "metadata": {
    "deletable": false,
    "editable": false,
    "tags": []
   },
   "source": [
    "<!-- END QUESTION -->\n",
    "\n",
    "### Task 13 📍🔎"
   ]
  },
  {
   "cell_type": "markdown",
   "metadata": {
    "deletable": false,
    "editable": false
   },
   "source": [
    "<!-- BEGIN QUESTION -->\n",
    "\n",
    "What do you notice about the line graph in terms of contribution trends in relation to the election cycle?\n",
    "\n",
    "_Make sure to check your response with a classmate, a tutor, or the instructor before moving on since there is no auto-grader for this lab task._"
   ]
  },
  {
   "cell_type": "markdown",
   "metadata": {},
   "source": [
    "_Type your answer here, replacing this text._"
   ]
  },
  {
   "cell_type": "markdown",
   "metadata": {
    "deletable": false,
    "editable": false
   },
   "source": [
    "<!-- END QUESTION -->\n",
    "\n",
    "### Outside Spending"
   ]
  },
  {
   "cell_type": "markdown",
   "metadata": {},
   "source": [
    "According to the [OpenSecrets Outside Spending page](https://www.opensecrets.org/outside-spending/summary):\n",
    "\n",
    "> A January 2010 Supreme Court decision (Citizens United v. Federal Election Commission) permits corporations and unions to make political expenditures from their treasuries directly and through other organizations, as long as the spending -- often in the form of TV ads -- is done independently of any candidate. In many cases, the activity takes place without complete or immediate disclosure about who is funding it, preventing voters from understanding who is truly behind many political messages. The spending figures cited are what the groups reported to the FEC; it does not account for all the money the groups spent, since certain kinds of ads are not required to be reported.\n",
    "\n",
    "Run the following cell to create the table `outside_spending` showing the outside spending for all the senate races in the 2022 election cycle.\n",
    "\n",
    "**Note**: The focus of the 2024 election cycle is on the presidential election, so similar data for this year doesn't show as much spending on advertising for and against each party. We've included the 2024 election cycle data in the file `outside_spending_2024.csv` if you want to explore it to see how the spending is much different."
   ]
  },
  {
   "cell_type": "code",
   "execution_count": null,
   "metadata": {},
   "outputs": [],
   "source": [
    "outside_spending = Table.read_table('outside_spending_2022.csv')\n",
    "outside_spending.show()"
   ]
  },
  {
   "cell_type": "markdown",
   "metadata": {
    "tags": []
   },
   "source": [
    "### Task 14 📍🔎"
   ]
  },
  {
   "cell_type": "markdown",
   "metadata": {
    "deletable": false,
    "editable": false
   },
   "source": [
    "<!-- BEGIN QUESTION -->\n",
    "\n",
    "Create a few scatter plots using the `outside_spending` data. Stop when you find a visualization that shows a positive association.\n",
    "\n",
    "**Suggestion**: Try to find the positive association between two different attributes that seems the strongest!\n",
    "\n",
    "_Make sure to check your visualization with a classmate, a tutor, or the instructor before moving on since there is no auto-grader for this lab task._"
   ]
  },
  {
   "cell_type": "code",
   "execution_count": null,
   "metadata": {
    "tags": []
   },
   "outputs": [],
   "source": [
    "# Generate your chart in this cell\n",
    "..."
   ]
  },
  {
   "cell_type": "markdown",
   "metadata": {
    "deletable": false,
    "editable": false
   },
   "source": [
    "<!-- END QUESTION -->\n",
    "\n",
    "Great work! You now have some practice with the basics of data visualization."
   ]
  },
  {
   "cell_type": "markdown",
   "metadata": {},
   "source": [
    "## Summary"
   ]
  },
  {
   "cell_type": "markdown",
   "metadata": {},
   "source": [
    "For your reference, here's a table of all the functions and methods we saw in this lab. As your list of operations expands, you'll find it help to consult with the [datascience documentation](https://datascience.readthedocs.io/) or the quick reference in Canvas rather than trying to memorize all the commands.\n",
    "\n",
    "|Name|Example|Purpose|\n",
    "|-|-|-|\n",
    "|`num_rows`|`tbl.num_rows`|Compute the number of rows in a table|\n",
    "|`num_columns`|`tbl.num_columns`|Compute the number of columns in a table|\n",
    "|`select`|`tbl.select(col1,col2,...)`|Create a copy of a table with only some of the columns|\n",
    "|`drop`|`tbl.drop(col1,col2,...)`|Create a copy of a table without some of the columns|\n",
    "|`where`|`tbl.where(\"N\", are.above(2))`|Create a copy of a table with only the rows that match some *predicate*|\n",
    "|`group`|`tbl.group(col)`|Create a table with the distinct values from `col` and the counts of those values|\n",
    "|`sort`|`tbl.sort(\"N\")`|Create a copy of a table sorted by the values in a column|\n",
    "|`take`|`tbl.take(row_indices)`|Create a copy of a table with only some of the rows|\n",
    "|`barh`|`tbl.barh(col)`|Create a horizontal bar chart for the values in the column|\n",
    "|`hist`|`tbl.hist(col)`|Create a histogram for the values in the column|\n",
    "|`plot`|`tbl.plot(col_x, col_y)`|Create a line plot using the columns|\n",
    "|`scatter`|`tbl.scatter(col_x, col_y)`|Create a scatter plot using the columns|"
   ]
  },
  {
   "cell_type": "markdown",
   "metadata": {},
   "source": [
    "## Submit your Lab to Canvas\n",
    "\n",
    "Once you have finished working on the lab questions, prepare to submit your work in Canvas by completing the following steps.\n",
    "\n",
    "1. In the related Canvas Assignment page, check the requirements for a Complete score for this lab assignments.\n",
    "2. Double-check that you have run the code cell near the end of the notebook that contains the command `\"grader.check_all()\"`. This command will run all of the run tests on all your responses to the auto-graded tasks marked with 📍.\n",
    "3. Double-check your responses to the manually graded tasks marked with 📍🔎.\n",
    "4. Select the menu items \"File\", \"Save and Export Notebook As...\", and \"HTML (.html)\" in the notebook's Toolbar to download an HTML version of this notebook file.\n",
    "5. In the related Canvas Assignment page, click Start Assignment or New Attempt to upload the downloaded HTML file."
   ]
  },
  {
   "cell_type": "markdown",
   "metadata": {
    "deletable": false,
    "editable": false
   },
   "source": [
    "---\n",
    "\n",
    "To double-check your work, the cell below will rerun all of the autograder tests."
   ]
  },
  {
   "cell_type": "code",
   "execution_count": null,
   "metadata": {
    "deletable": false,
    "editable": false
   },
   "outputs": [],
   "source": [
    "grader.check_all()"
   ]
  }
 ],
 "metadata": {
  "hide_input": false,
  "kernelspec": {
   "display_name": "Python 3 (ipykernel)",
   "language": "python",
   "name": "python3"
  },
  "language_info": {
   "codemirror_mode": {
    "name": "ipython",
    "version": 3
   },
   "file_extension": ".py",
   "mimetype": "text/x-python",
   "name": "python",
   "nbconvert_exporter": "python",
   "pygments_lexer": "ipython3",
   "version": "3.10.12"
  },
  "otter": {
   "OK_FORMAT": true,
   "assignment_name": "lab03_sp24",
   "tests": {
    "task_02": {
     "name": "task_02",
     "points": null,
     "suites": [
      {
       "cases": [
        {
         "code": ">>> num_farmers_markets_columns == 59\nTrue",
         "failure_message": "❌ It doesn't seem that you have the correct value. Make sure you using .num_columns directly after the name of the table.",
         "hidden": false,
         "locked": false,
         "success_message": "✅ Great work!"
        }
       ],
       "scored": true,
       "setup": "",
       "teardown": "",
       "type": "doctest"
      }
     ]
    },
    "task_03": {
     "name": "task_03",
     "points": null,
     "suites": [
      {
       "cases": [
        {
         "code": ">>> sorted(farmers_markets_locations.labels) == ['County', 'MarketName', 'State', 'city', 'x', 'y']\nTrue",
         "failure_message": "❌ It doesn't seem that you have the correct columns. Make sure you are using the names of the 5 column, sepearted by commas, as the input for .select().",
         "hidden": false,
         "locked": false,
         "success_message": "✅ Great work. It seems you have the correct columns!"
        },
        {
         "code": ">>> farmers_markets_locations.num_rows == 1681 and farmers_markets_locations.sort('State').row(10).item(3) == 'Alabama'\nTrue",
         "failure_message": "❌ It doesn't seem that you all of the information from the table for those specific columns",
         "hidden": false,
         "locked": false,
         "success_message": "✅ Your table seems to have the correct information."
        }
       ],
       "scored": true,
       "setup": "",
       "teardown": "",
       "type": "doctest"
      }
     ]
    },
    "task_04": {
     "name": "task_04",
     "points": null,
     "suites": [
      {
       "cases": [
        {
         "code": ">>> sf_markets.num_rows == 3\nTrue",
         "failure_message": "❌ It doesn't seem that you have the correct number of markets. Make sure you are using the where method with the 'city' column as the first arugment and and correct city as the second argument",
         "hidden": false,
         "locked": false,
         "success_message": "✅ It seems you have the correct number of markets."
        },
        {
         "code": ">>> list(sf_markets.column('city')) == ['San Francisco', 'San Francisco', 'San Francisco']\nTrue",
         "failure_message": "❌ It doesn't seem that you have filtered the table to just San Francisco markets. Make sure to double-check your spelling.",
         "hidden": false,
         "locked": false,
         "success_message": "✅ You've filtered the table to just San Francisco markets."
        }
       ],
       "scored": true,
       "setup": "",
       "teardown": "",
       "type": "doctest"
      }
     ]
    },
    "task_05": {
     "name": "task_05",
     "points": null,
     "suites": [
      {
       "cases": [
        {
         "code": ">>> isinstance(top_8_by_county, Table)\nTrue",
         "failure_message": "❌ It doesn't seem that you made a table with the correct name.",
         "hidden": false,
         "locked": false,
         "success_message": "✅ You've made a table with the correct name."
        },
        {
         "code": ">>> top_8_by_county.num_columns == 2\nTrue",
         "failure_message": "❌ It seems that you don't have the correct number of columns. Don't forget about the group method.",
         "hidden": false,
         "locked": false,
         "success_message": "✅ It seems like you have the correct number of columns!"
        },
        {
         "code": ">>> np.all(top_8_by_county.column('count') == make_array(28, 10, 10, 7, 7, 6, 6, 5))\nTrue",
         "failure_message": "❌ It doesn't seem that you sorted the values correct. Don't forget about the optional argument called descending.",
         "hidden": false,
         "locked": false,
         "success_message": "✅ It seems like you have the values sorted correctly!"
        }
       ],
       "scored": true,
       "setup": "",
       "teardown": "",
       "type": "doctest"
      }
     ]
    },
    "task_06": {
     "name": "task_06",
     "points": null,
     "suites": [
      {
       "cases": [
        {
         "code": ">>> isinstance(categorical_attributes, np.ndarray)\nTrue",
         "failure_message": "❌ categorical_attributes should be an array. Try using make_array to make an array with your choice of numbers 1 - 10.",
         "hidden": false,
         "locked": false,
         "points": 1,
         "success_message": "✅ categorical_attributes is an array."
        },
        {
         "code": ">>> set(categorical_attributes).issubset(set(np.arange(1, 11)))\nTrue",
         "failure_message": "❌ categorical_attributes should contain numbers 1 - 10 to reflect the 10 possible attributes.",
         "hidden": false,
         "locked": false,
         "points": 1,
         "success_message": "✅ categorical_attributes contains numbers 1 - 10."
        },
        {
         "code": ">>> set(categorical_attributes) == {2, 5, 6, 7, 9, 10}\nTrue",
         "failure_message": "❌ It seems like some of your choices are incorrect and are more likely to be considered as numerical attributes.",
         "hidden": false,
         "locked": false,
         "points": 1,
         "success_message": "✅ Great work on identifying all of the categorical attributes!"
        }
       ],
       "scored": true,
       "setup": "",
       "teardown": "",
       "type": "doctest"
      }
     ]
    },
    "task_08": {
     "name": "task_08",
     "points": null,
     "suites": [
      {
       "cases": [
        {
         "code": ">>> isinstance(viewpoints, Table)\nTrue",
         "failure_message": "❌ viewpoints is not a Table. Use the group table method with corporate_contributions to produce a Table.",
         "hidden": false,
         "locked": false,
         "points": 1,
         "success_message": "✅ viewpoints is a Table."
        },
        {
         "code": ">>> viewpoints.num_columns == 2 and viewpoints.num_rows == 3\nTrue",
         "failure_message": "❌ The viewpoints table should have 3 rows and 2 columns.",
         "hidden": false,
         "locked": false,
         "points": 1,
         "success_message": "✅ The viewpoints table has the correct number of rows and columns."
        },
        {
         "code": ">>> 'Recipient Viewpoint' in viewpoints.labels\nTrue",
         "failure_message": "❌ The viewpoints table doesn't contain the label Recipient Viewpoint. Are you grouping by Recipient Viewpoint?",
         "hidden": false,
         "locked": false,
         "points": 1,
         "success_message": "✅ The viewpoints table contains the label Recipient Viewpoint."
        },
        {
         "code": ">>> 'Percentage' in viewpoints.labels\nTrue",
         "failure_message": "❌ The viewpoints table doesn't contain the label Percentage. Create an array of percentages and add that information back to the table.",
         "hidden": false,
         "locked": false,
         "points": 1,
         "success_message": "✅ The viewpoints table contains the label Percentage."
        },
        {
         "code": ">>> viewpoints\nRecipient Viewpoint | Percentage\nConservative        | 66.6667\nLiberal             | 12.1212\nnan                 | 21.2121",
         "failure_message": "❌ It doesn't seem like the viewpoints table is correct. Ask for help before moving on.",
         "hidden": false,
         "locked": false,
         "points": 1,
         "success_message": "✅ It seems like the viewpoints table is correct!"
        }
       ],
       "scored": true,
       "setup": "",
       "teardown": "",
       "type": "doctest"
      }
     ]
    },
    "task_10": {
     "name": "task_10",
     "points": null,
     "suites": [
      {
       "cases": [
        {
         "code": ">>> corporate_contributions.labels == ('Contributor', 'Recipient', 'Amount', 'Date', 'Recipient Viewpoint')\nTrue",
         "failure_message": "❌ The labels of the corporate_contributions table doesn't seem correct. You should have the same labels that you did before this task.",
         "hidden": false,
         "locked": false,
         "points": 1,
         "success_message": "✅ The labels of the corporate_contributions table seem correct."
        },
        {
         "code": ">>> isinstance(corporate_contributions.column('Amount').item(0), float)\nTrue",
         "failure_message": "❌ The values in the Amount column should be floats. Try using with_column with the label name `Amount` and amounts array we created for you.",
         "hidden": false,
         "locked": false,
         "points": 1,
         "success_message": "✅ The values in the Amount column are floats."
        },
        {
         "code": ">>> sum(corporate_contributions.column('Amount')) == 121500000.0\nTrue",
         "failure_message": "❌ The values in the Amount column are not correct. Get help before moving on.",
         "hidden": false,
         "locked": false,
         "points": 1,
         "success_message": "✅ The values in the Amount column seem correct."
        }
       ],
       "scored": true,
       "setup": "",
       "teardown": "",
       "type": "doctest"
      }
     ]
    }
   }
  },
  "toc-autonumbering": false,
  "toc-showmarkdowntxt": false
 },
 "nbformat": 4,
 "nbformat_minor": 4
}
